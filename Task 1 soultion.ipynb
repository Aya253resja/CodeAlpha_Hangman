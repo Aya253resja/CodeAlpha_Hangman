{
 "cells": [
  {
   "cell_type": "code",
   "execution_count": 1,
   "metadata": {},
   "outputs": [],
   "source": [
    "import random"
   ]
  },
  {
   "cell_type": "code",
   "execution_count": 17,
   "metadata": {},
   "outputs": [
    {
     "name": "stdout",
     "output_type": "stream",
     "text": [
      "WELCOME TO OUR HANGMAN GAME\n",
      "\n",
      "Word to guess: _ _ _ _ _ _\n",
      "Allowed time: 8\n",
      "Letters guessed: \n",
      "This letter: n is in the word, good job!\n",
      "\n",
      "Word to guess: _ n _ _ _ n\n",
      "Allowed time: 8\n",
      "Letters guessed: n\n",
      "This letter: i is in the word, good job!\n",
      "\n",
      "Word to guess: i n _ _ _ n\n",
      "Allowed time: 8\n",
      "Letters guessed: i, n\n",
      "This letter: t is in the word, good job!\n",
      "\n",
      "Word to guess: i n t _ _ n\n",
      "Allowed time: 8\n",
      "Letters guessed: i, n, t\n",
      "This letter: e is in the word, good job!\n",
      "\n",
      "Word to guess: i n t e _ n\n",
      "Allowed time: 8\n",
      "Letters guessed: e, i, n, t\n",
      "This letter: r is in the word, good job!\n",
      "Good job! You guessed the word correctly: intern\n"
     ]
    }
   ],
   "source": [
    "import random\n",
    "\n",
    "def hangman():\n",
    "    words = [\"Code\", \"Alpha\", \"intern\", \"one\", \"Month\", \"Program\"]\n",
    "    word_will_guess = random.choice(words)\n",
    "    guessed_word = [\"_\" for _ in word_will_guess]\n",
    "    allowed_time = 8\n",
    "    letter_guessed = set()\n",
    "\n",
    "    print(\"WELCOME TO OUR HANGMAN GAME\")\n",
    "\n",
    "    while allowed_time > 0 and \"_\" in guessed_word:\n",
    "        print(\"\\nWord to guess:\", \" \".join(guessed_word))\n",
    "        print(f\"Allowed time: {allowed_time}\")\n",
    "        print(\"Letters guessed:\", \", \".join(sorted(letter_guessed)))\n",
    "\n",
    "        guess = input(\"Guess the letter: \").lower()\n",
    "\n",
    "        if len(guess) != 1 or not guess.isalpha():\n",
    "            print(\"Please enter a valid single letter.\")\n",
    "            continue\n",
    "        if guess in letter_guessed:\n",
    "            print(\"You guessed this letter already. Try another one.\")\n",
    "            continue\n",
    "\n",
    "        letter_guessed.add(guess)\n",
    "\n",
    "        if guess in word_will_guess:\n",
    "            print(f\"This letter: {guess} is in the word, good job!\")\n",
    "            for index, letter in enumerate(word_will_guess):\n",
    "                if letter == guess:\n",
    "                    guessed_word[index] = guess\n",
    "        else:\n",
    "            print(f\"Sorry, the letter: {guess} is not in the word.\")\n",
    "            allowed_time -= 1\n",
    "\n",
    "    if \"_\" not in guessed_word:\n",
    "        print(f\"Good job! You guessed the word correctly: {word_will_guess}\")\n",
    "    else:\n",
    "        print(f\"Sorry, the game ended. Please try again. The word was: {word_will_guess}\")\n",
    "\n",
    "if __name__ == \"__main__\":\n",
    "    hangman()\n"
   ]
  }
 ],
 "metadata": {
  "kernelspec": {
   "display_name": "Python 3",
   "language": "python",
   "name": "python3"
  },
  "language_info": {
   "codemirror_mode": {
    "name": "ipython",
    "version": 3
   },
   "file_extension": ".py",
   "mimetype": "text/x-python",
   "name": "python",
   "nbconvert_exporter": "python",
   "pygments_lexer": "ipython3",
   "version": "3.12.8"
  }
 },
 "nbformat": 4,
 "nbformat_minor": 2
}
